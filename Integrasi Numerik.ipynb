{
 "cells": [
  {
   "cell_type": "markdown",
   "metadata": {
    "id": "Dr5OJQCWqoS0"
   },
   "source": [
    "# **Metode Trapesium**"
   ]
  },
  {
   "cell_type": "markdown",
   "metadata": {
    "id": "sxqbLoFaDjEa"
   },
   "source": [
    "Persamaan pendekatan nilai $\\int_{x_0}^{x_n}f(x)\\,dx$ dengan diketahui $n+1$ titik (ada $n$ subinterval) adalah\n",
    "\\begin{equation}\n",
    "\\begin {split}\n",
    "I_n(f)&=h\\Big[\\frac{1}{2}f_0+f_1+...+f_{n-1}+\\frac{1}{2}f_n\\Big]\\\\\n",
    "&=h\\Big[\\sum_{n=0}^n f_n-\\frac{1}{2}f_0-\\frac{1}{2}f_n\\Big]\n",
    "\\end{split}\n",
    "\\end{equation}"
   ]
  },
  {
   "cell_type": "code",
   "execution_count": null,
   "metadata": {
    "colab": {
     "base_uri": "https://localhost:8080/"
    },
    "id": "BS5Z6n3aqHAV",
    "outputId": "87c57ef3-4658-4662-d23b-d3b3f0239273"
   },
   "outputs": [
    {
     "name": "stdout",
     "output_type": "stream",
     "text": [
      "0.4930735553150637\n"
     ]
    }
   ],
   "source": [
    "import numpy as np\n",
    "\n",
    "def f(x):\n",
    "    return np.sin(x)/x\n",
    "\n",
    "def trapz(f,a,b,N):\n",
    "    x=np.linspace(a,b,N+1)\n",
    "    y=f(x)\n",
    "    h=(b-a)/N\n",
    "    I=h*(sum(y)-(y[0]+y[N])/2)\n",
    "    return print(I)\n",
    "    \n",
    "trapz(f,1e-10,0.5+1e-10,10)\n"
   ]
  },
  {
   "cell_type": "markdown",
   "metadata": {
    "id": "tEVzcEErrDTe"
   },
   "source": [
    "# **Metode Simpson**"
   ]
  },
  {
   "cell_type": "markdown",
   "metadata": {
    "id": "Ab46PXS7Q0Gm"
   },
   "source": [
    "Diberikan $K=\\{1,2,3,...,n-1\\}$. Pendekatan nilai $\\int_{x_0}^{x_n}f(x)\\,dx$ dengan diketahui $n+1$ titik (ada $n$ subinterval) adalah\n",
    "\\begin{equation}\n",
    "\\begin {split}\n",
    "I_n(f)&=\\frac{h}{3}\\Big[f_0+4f_1+2f_2+...+2f_{n-2}+4f_{n-1}+f_n\\Big]\\\\\n",
    "&=h\\Big[4\\sum_{j\\in K,i=1} f_j+2\\sum_{j\\in K,i=0} f_j+f_0+f_n\\Big]\n",
    "\\end{split}\n",
    "\\end{equation}\n",
    "dengan $i=j\\mod2$, $j=1,2,3,...,n-1$"
   ]
  },
  {
   "cell_type": "code",
   "execution_count": 1,
   "metadata": {
    "colab": {
     "base_uri": "https://localhost:8080/"
    },
    "id": "OwVtgA0rrBDb",
    "outputId": "babec448-d6bf-447b-d256-af7c676bca5f"
   },
   "outputs": [
    {
     "name": "stdout",
     "output_type": "stream",
     "text": [
      "0.49310741804434377\n"
     ]
    }
   ],
   "source": [
    "import numpy as np\n",
    "\n",
    "def f(x):\n",
    "    return np.sin(x)/x\n",
    "\n",
    "def simp(f,a,b,N):\n",
    "    x=np.linspace(a,b,N+1)\n",
    "    y=f(x)\n",
    "    h=(b-a)/N\n",
    "    if N%2==1:\n",
    "        return print(\"N ganjil. Metode tidak dapat dilakukan\")\n",
    "    else:\n",
    "        y_x_ganjil=[]\n",
    "        y_x_genap=[]\n",
    "        for i in range (1,N):\n",
    "            if (i)%2==1:\n",
    "                y_x_ganjil.append(y[i])\n",
    "            elif (i)%2==0:\n",
    "                y_x_genap.append(y[i])\n",
    "        I=(h/3)*(4*sum(y_x_ganjil)+2*sum(y_x_genap)+y[0]+y[N])\n",
    "        return print(I)\n",
    "\n",
    "simp(f,1e-10,0.5+1e-10,50) "
   ]
  },
  {
   "cell_type": "code",
   "execution_count": 3,
   "metadata": {},
   "outputs": [
    {
     "name": "stdout",
     "output_type": "stream",
     "text": [
      "1.3254092229340178\n"
     ]
    }
   ],
   "source": [
    "import numpy as np\n",
    "\n",
    "def f(x):\n",
    "    return 1/(1+x**2)\n",
    "\n",
    "def simp(f,a,b,N):\n",
    "    x=np.linspace(a,b,N+1)\n",
    "    y=f(x)\n",
    "    h=(b-a)/N\n",
    "    if N%2==1:\n",
    "        return print(\"N ganjil. Metode tidak dapat dilakukan\")\n",
    "    else:\n",
    "        y_x_ganjil=[]\n",
    "        y_x_genap=[]\n",
    "        for i in range (1,N):\n",
    "            if (i)%2==1:\n",
    "                y_x_ganjil.append(y[i])\n",
    "            elif (i)%2==0:\n",
    "                y_x_genap.append(y[i])\n",
    "        I=(h/3)*(4*sum(y_x_ganjil)+2*sum(y_x_genap)+y[0]+y[N])\n",
    "        return print(I)\n",
    "\n",
    "simp(f,0,4,50) "
   ]
  },
  {
   "cell_type": "code",
   "execution_count": 12,
   "metadata": {},
   "outputs": [
    {
     "name": "stdout",
     "output_type": "stream",
     "text": [
      "galatnya sebesar  0.43959075188990815\n"
     ]
    }
   ],
   "source": [
    "def g(x):\n",
    "    return 1/(1+x**2)\n",
    "pred = simp(f,0,4,50)  \n",
    "exact = 1.325817663668032\n",
    "\n",
    "print(\"galatnya sebesar \", exact - pred)"
   ]
  },
  {
   "cell_type": "code",
   "execution_count": 10,
   "metadata": {},
   "outputs": [
    {
     "data": {
      "text/plain": [
       "0.7468241341203179"
      ]
     },
     "execution_count": 10,
     "metadata": {},
     "output_type": "execute_result"
    }
   ],
   "source": [
    "import numpy as np\n",
    "\n",
    "def f(x):\n",
    "    return np.exp(-x**2)\n",
    "\n",
    "def simp(f,a,b,N):\n",
    "    x=np.linspace(a,b,N+1)\n",
    "    y=f(x)\n",
    "    h=(b-a)/N\n",
    "    if N%2==1:\n",
    "        return print(\"N ganjil. Metode tidak dapat dilakukan\")\n",
    "    else:\n",
    "        y_x_ganjil=[]\n",
    "        y_x_genap=[]\n",
    "        for i in range (1,N):\n",
    "            if (i)%2==1:\n",
    "                y_x_ganjil.append(y[i])\n",
    "            elif (i)%2==0:\n",
    "                y_x_genap.append(y[i])\n",
    "        I=(h/3)*(4*sum(y_x_ganjil)+2*sum(y_x_genap)+y[0]+y[N])\n",
    "        return I\n",
    "\n",
    "simp(f,0,1,50) "
   ]
  },
  {
   "cell_type": "code",
   "execution_count": 11,
   "metadata": {},
   "outputs": [
    {
     "name": "stdout",
     "output_type": "stream",
     "text": [
      "galatnya sebesar  -1.3078909066877031e-09\n"
     ]
    }
   ],
   "source": [
    "def g(x):\n",
    "    return np.exp(-x**2)\n",
    "pred = simp(f,0,1,50) \n",
    "exact = 0.746824132812427\n",
    "\n",
    "print(\"galatnya sebesar \", exact - pred)"
   ]
  },
  {
   "cell_type": "code",
   "execution_count": 13,
   "metadata": {},
   "outputs": [
    {
     "data": {
      "text/plain": [
       "0.2721982612879503"
      ]
     },
     "execution_count": 13,
     "metadata": {},
     "output_type": "execute_result"
    }
   ],
   "source": [
    "import numpy as np\n",
    "\n",
    "def f(x):\n",
    "    return np.log(1+np.tan(x))\n",
    "\n",
    "def simp(f,a,b,N):\n",
    "    x=np.linspace(a,b,N+1)\n",
    "    y=f(x)\n",
    "    h=(b-a)/N\n",
    "    if N%2==1:\n",
    "        return print(\"N ganjil. Metode tidak dapat dilakukan\")\n",
    "    else:\n",
    "        y_x_ganjil=[]\n",
    "        y_x_genap=[]\n",
    "        for i in range (1,N):\n",
    "            if (i)%2==1:\n",
    "                y_x_ganjil.append(y[i])\n",
    "            elif (i)%2==0:\n",
    "                y_x_genap.append(y[i])\n",
    "        I=(h/3)*(4*sum(y_x_ganjil)+2*sum(y_x_genap)+y[0]+y[N])\n",
    "        return I\n",
    "\n",
    "simp(f,0,np.pi/4,50) "
   ]
  },
  {
   "cell_type": "code",
   "execution_count": 14,
   "metadata": {},
   "outputs": [
    {
     "name": "stdout",
     "output_type": "stream",
     "text": [
      "galatnya sebesar  0.0\n"
     ]
    }
   ],
   "source": [
    "def g(x):\n",
    "    return np.log(1+np.tan(x))\n",
    "pred = simp(f,0,np.pi/4,50)  \n",
    "exact = 0.2721982612879503\n",
    "\n",
    "print(\"galatnya sebesar \", exact - pred)"
   ]
  },
  {
   "cell_type": "code",
   "execution_count": null,
   "metadata": {},
   "outputs": [],
   "source": []
  }
 ],
 "metadata": {
  "colab": {
   "name": "Integrasi dan Diferensiasi Numerik",
   "provenance": []
  },
  "kernelspec": {
   "display_name": "Python 3",
   "language": "python",
   "name": "python3"
  },
  "language_info": {
   "codemirror_mode": {
    "name": "ipython",
    "version": 3
   },
   "file_extension": ".py",
   "mimetype": "text/x-python",
   "name": "python",
   "nbconvert_exporter": "python",
   "pygments_lexer": "ipython3",
   "version": "3.8.5"
  }
 },
 "nbformat": 4,
 "nbformat_minor": 1
}
